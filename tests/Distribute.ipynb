{
 "cells": [
  {
   "cell_type": "code",
   "execution_count": null,
   "metadata": {},
   "outputs": [],
   "source": [
    "import sys\n",
    "sys.path.append('../')\n",
    "\n",
    "from pprint import pprint\n",
    "from rpyc.utils import server\n",
    "from multiprocessing import Process\n",
    "from atmosphere.dispatcher import Dispatcher\n",
    "from atmosphere.resource_slave import ResourceSlave\n",
    "from atmosphere.resource_master import ResourceMaster\n",
    "from atmosphere.simulation_template import GridSimulationTemplate"
   ]
  },
  {
   "cell_type": "code",
   "execution_count": null,
   "metadata": {},
   "outputs": [],
   "source": [
    "def spawn_local_server(port):\n",
    "    worker = ResourceSlave()\n",
    "    server.ThreadedServer(worker,\n",
    "                          hostname='localhost',\n",
    "                          port=port).start()"
   ]
  },
  {
   "cell_type": "code",
   "execution_count": null,
   "metadata": {},
   "outputs": [],
   "source": [
    "#start servers\n",
    "\n",
    "server_1_proc = Process(target=spawn_local_server,\n",
    "                        args=(9000,))\n",
    "server_1_proc.start()\n",
    "\n",
    "server_2_proc = Process(target=spawn_local_server,\n",
    "                        args=(9001,))\n",
    "server_2_proc.start()"
   ]
  },
  {
   "cell_type": "code",
   "execution_count": null,
   "metadata": {},
   "outputs": [],
   "source": [
    "#make a list of resources\n",
    "\n",
    "resources = [ResourceMaster('localhost', 9000, './output/', 'test_resource_1'),\n",
    "             ResourceMaster('localhost', 9001, './output/', 'test_resource_2')]\n"
   ]
  },
  {
   "cell_type": "code",
   "execution_count": null,
   "metadata": {},
   "outputs": [],
   "source": [
    "#make a simulation template\n",
    "\n",
    "template = GridSimulationTemplate(hyperparams = {'x':[1, 2, 3],\n",
    "                                                 'y':[1, 2, 3]})\n",
    "\n",
    "test_generator = template.get_hyperparam_generator()\n",
    "for elem in test_generator:\n",
    "    pprint(elem)"
   ]
  },
  {
   "cell_type": "code",
   "execution_count": null,
   "metadata": {},
   "outputs": [],
   "source": [
    "#make a distributor with the given resources and template\n"
   ]
  },
  {
   "cell_type": "code",
   "execution_count": null,
   "metadata": {},
   "outputs": [],
   "source": [
    "#kill servers\n",
    "\n",
    "server_1_proc.terminate()\n",
    "server_2_proc.terminate()"
   ]
  },
  {
   "cell_type": "code",
   "execution_count": null,
   "metadata": {},
   "outputs": [],
   "source": []
  }
 ],
 "metadata": {
  "kernelspec": {
   "display_name": "atmosphere",
   "language": "python",
   "name": "atmosphere"
  },
  "language_info": {
   "codemirror_mode": {
    "name": "ipython",
    "version": 3
   },
   "file_extension": ".py",
   "mimetype": "text/x-python",
   "name": "python",
   "nbconvert_exporter": "python",
   "pygments_lexer": "ipython3",
   "version": "3.5.2"
  }
 },
 "nbformat": 4,
 "nbformat_minor": 2
}
